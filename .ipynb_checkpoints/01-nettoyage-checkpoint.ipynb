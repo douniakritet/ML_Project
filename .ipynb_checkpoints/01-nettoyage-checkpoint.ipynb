{
 "cells": [
  {
   "cell_type": "markdown",
   "metadata": {},
   "source": [
    "### Import libraires"
   ]
  },
  {
   "cell_type": "code",
   "execution_count": 9,
   "metadata": {},
   "outputs": [],
   "source": [
    "import numpy as np\n",
    "import pandas as pd\n",
    "from sklearn.preprocessing import LabelEncoder, StandardScaler, MinMaxScaler\n",
    "import matplotlib.pyplot as plt\n",
    "import seaborn as sns"
   ]
  },
  {
   "cell_type": "markdown",
   "metadata": {},
   "source": [
    "### Nettoyage des données"
   ]
  },
  {
   "cell_type": "code",
   "execution_count": 10,
   "metadata": {},
   "outputs": [
    {
     "name": "stdout",
     "output_type": "stream",
     "text": [
      "<class 'pandas.core.frame.DataFrame'>\n",
      "RangeIndex: 600 entries, 0 to 599\n",
      "Data columns (total 8 columns):\n",
      " #   Column                    Non-Null Count  Dtype \n",
      "---  ------                    --------------  ----- \n",
      " 0   Ville de depart           600 non-null    object\n",
      " 1   Ville d'arrivee           600 non-null    object\n",
      " 2   Distance (km)             600 non-null    int64 \n",
      " 3   Heure depart prevue       600 non-null    object\n",
      " 4   Heure arrivee prevue      600 non-null    object\n",
      " 5   Heure arrivee reelle      600 non-null    object\n",
      " 6   Poids (kg)                600 non-null    int64 \n",
      " 7   Retard observe (minutes)  600 non-null    int64 \n",
      "dtypes: int64(3), object(5)\n",
      "memory usage: 37.6+ KB\n"
     ]
    },
    {
     "data": {
      "text/html": [
       "<div>\n",
       "<style scoped>\n",
       "    .dataframe tbody tr th:only-of-type {\n",
       "        vertical-align: middle;\n",
       "    }\n",
       "\n",
       "    .dataframe tbody tr th {\n",
       "        vertical-align: top;\n",
       "    }\n",
       "\n",
       "    .dataframe thead th {\n",
       "        text-align: right;\n",
       "    }\n",
       "</style>\n",
       "<table border=\"1\" class=\"dataframe\">\n",
       "  <thead>\n",
       "    <tr style=\"text-align: right;\">\n",
       "      <th></th>\n",
       "      <th>Distance (km)</th>\n",
       "      <th>Poids (kg)</th>\n",
       "      <th>Retard observe (minutes)</th>\n",
       "    </tr>\n",
       "  </thead>\n",
       "  <tbody>\n",
       "    <tr>\n",
       "      <th>count</th>\n",
       "      <td>600.000000</td>\n",
       "      <td>600.000000</td>\n",
       "      <td>600.000000</td>\n",
       "    </tr>\n",
       "    <tr>\n",
       "      <th>mean</th>\n",
       "      <td>395.883333</td>\n",
       "      <td>21311.825000</td>\n",
       "      <td>58.971667</td>\n",
       "    </tr>\n",
       "    <tr>\n",
       "      <th>std</th>\n",
       "      <td>214.388644</td>\n",
       "      <td>10670.249236</td>\n",
       "      <td>35.809049</td>\n",
       "    </tr>\n",
       "    <tr>\n",
       "      <th>min</th>\n",
       "      <td>95.000000</td>\n",
       "      <td>2035.000000</td>\n",
       "      <td>0.000000</td>\n",
       "    </tr>\n",
       "    <tr>\n",
       "      <th>25%</th>\n",
       "      <td>240.000000</td>\n",
       "      <td>12246.500000</td>\n",
       "      <td>27.000000</td>\n",
       "    </tr>\n",
       "    <tr>\n",
       "      <th>50%</th>\n",
       "      <td>320.000000</td>\n",
       "      <td>21335.000000</td>\n",
       "      <td>59.500000</td>\n",
       "    </tr>\n",
       "    <tr>\n",
       "      <th>75%</th>\n",
       "      <td>555.000000</td>\n",
       "      <td>30631.500000</td>\n",
       "      <td>90.250000</td>\n",
       "    </tr>\n",
       "    <tr>\n",
       "      <th>max</th>\n",
       "      <td>865.000000</td>\n",
       "      <td>39944.000000</td>\n",
       "      <td>120.000000</td>\n",
       "    </tr>\n",
       "  </tbody>\n",
       "</table>\n",
       "</div>"
      ],
      "text/plain": [
       "       Distance (km)    Poids (kg)  Retard observe (minutes)\n",
       "count     600.000000    600.000000                600.000000\n",
       "mean      395.883333  21311.825000                 58.971667\n",
       "std       214.388644  10670.249236                 35.809049\n",
       "min        95.000000   2035.000000                  0.000000\n",
       "25%       240.000000  12246.500000                 27.000000\n",
       "50%       320.000000  21335.000000                 59.500000\n",
       "75%       555.000000  30631.500000                 90.250000\n",
       "max       865.000000  39944.000000                120.000000"
      ]
     },
     "execution_count": 10,
     "metadata": {},
     "output_type": "execute_result"
    }
   ],
   "source": [
    "data = pd.read_csv(\"data/donnees_camions.csv\")\n",
    "data.head()\n",
    "data.info()\n",
    "data.describe()"
   ]
  },
  {
   "cell_type": "code",
   "execution_count": 11,
   "metadata": {},
   "outputs": [],
   "source": [
    "# Remplacer les valeurs manquantes dans la colonne \"Retard observe (minutes)\" par la moyenne\n",
    "data.fillna({\"Retard observe (minutes)\": data[\"Retard observe (minutes)\"].mean()}, inplace=True)"
   ]
  },
  {
   "cell_type": "code",
   "execution_count": 12,
   "metadata": {},
   "outputs": [],
   "source": [
    "# Étape 3 : Gestion des valeurs aberrantes\n",
    "data = data[(data[\"Retard observe (minutes)\"] >= 0) & (data[\"Retard observe (minutes)\"] <= 360)]\n",
    "data = data[(data[\"Poids (kg)\"] >= 2000) & (data[\"Poids (kg)\"] <= 40000)]\n",
    "distances = {\n",
    "    (\"Agadir\", \"Marrakech\"): 235,\n",
    "    (\"Agadir\", \"Rabat\"): 570,\n",
    "    (\"Agadir\", \"Casablanca\"): 470,\n",
    "    (\"Agadir\", \"Tanger\"): 865,\n",
    "    (\"Marrakech\", \"Rabat\"): 320,\n",
    "    (\"Marrakech\", \"Casablanca\"): 240,\n",
    "    (\"Marrakech\", \"Tanger\"): 555,\n",
    "    (\"Rabat\", \"Casablanca\"): 95,\n",
    "    (\"Rabat\", \"Tanger\"): 250,\n",
    "    (\"Casablanca\", \"Tanger\"): 340,\n",
    "}"
   ]
  },
  {
   "cell_type": "code",
   "execution_count": 13,
   "metadata": {},
   "outputs": [],
   "source": [
    "for index, row in data.iterrows():\n",
    "    distance_verifiee = distances.get((row[\"Ville de depart\"], row[\"Ville d'arrivee\"])) or distances.get((row[\"Ville d'arrivee\"], row[\"Ville de depart\"]))\n",
    "    if row[\"Distance (km)\"] != distance_verifiee:\n",
    "        data.at[index, \"Distance (km)\"] = distance_verifiee\n",
    "\n",
    "encoder = LabelEncoder()\n",
    "data[\"Ville de depart\"] = encoder.fit_transform(data[\"Ville de depart\"])\n",
    "data[\"Ville d'arrivee\"] = encoder.fit_transform(data[\"Ville d'arrivee\"])"
   ]
  },
  {
   "cell_type": "code",
   "execution_count": 14,
   "metadata": {},
   "outputs": [
    {
     "name": "stdout",
     "output_type": "stream",
     "text": [
      "Données nettoyées sauvegardées dans 'donnees_nettoyees_retards.csv'\n"
     ]
    }
   ],
   "source": [
    "data.to_csv(\"data/donnees_nettoyees_retards.csv\", index=False)\n",
    "print(\"Données nettoyées sauvegardées dans 'donnees_nettoyees_retards.csv'\")"
   ]
  },
  {
   "cell_type": "code",
   "execution_count": null,
   "metadata": {},
   "outputs": [],
   "source": []
  }
 ],
 "metadata": {
  "kernelspec": {
   "display_name": "Python 3",
   "language": "python",
   "name": "python3"
  },
  "language_info": {
   "codemirror_mode": {
    "name": "ipython",
    "version": 3
   },
   "file_extension": ".py",
   "mimetype": "text/x-python",
   "name": "python",
   "nbconvert_exporter": "python",
   "pygments_lexer": "ipython3",
   "version": "3.11.0"
  }
 },
 "nbformat": 4,
 "nbformat_minor": 2
}
