{
 "cells": [
  {
   "cell_type": "markdown",
   "metadata": {},
   "source": [
    "### Import libraires"
   ]
  },
  {
   "cell_type": "code",
   "execution_count": 1,
   "metadata": {},
   "outputs": [],
   "source": [
    "import pandas as pd\n",
    "import joblib\n"
   ]
  },
  {
   "cell_type": "markdown",
   "metadata": {},
   "source": [
    "### Test de model"
   ]
  },
  {
   "cell_type": "code",
   "execution_count": 3,
   "metadata": {},
   "outputs": [
    {
     "name": "stdout",
     "output_type": "stream",
     "text": [
      "Modèle Random Forest chargé.\n"
     ]
    }
   ],
   "source": [
    "random_forest_model = joblib.load(\"model_pkl/Random Forest_model.pkl\")\n",
    "print(\"Modèle Random Forest chargé.\")"
   ]
  },
  {
   "cell_type": "code",
   "execution_count": 4,
   "metadata": {},
   "outputs": [],
   "source": [
    "new_data = pd.DataFrame({\n",
    "    \"Ville de depart\": [1, 2, 1, 0],\n",
    "    \"Ville d'arrivee\": [3, 4, 3, 2],\n",
    "    \"Distance (km)\": [200, 300, 95, 235],\n",
    "    \"Poids (kg)\": [10000, 15000, 38939, 8061],\n",
    "    \"Heure_depart\": [8, 14, 21, 16],\n",
    "    \"Heure_arrivee\": [12, 18, 22, 18],\n",
    "    \"Weekend\": [0, 1, 0, 0],\n",
    "    \"Jour ferie\": [0, 0, 1, 0],\n",
    "    \"Duree reelle (minutes)\": [240, 180, 75, 260]\n",
    "})"
   ]
  },
  {
   "cell_type": "code",
   "execution_count": 5,
   "metadata": {},
   "outputs": [
    {
     "name": "stdout",
     "output_type": "stream",
     "text": [
      "Index(['Ville de depart', 'Ville d'arrivee', 'Distance (km)', 'Poids (kg)',\n",
      "       'Heure_depart', 'Heure_arrivee', 'Weekend', 'Jour ferie',\n",
      "       'Duree reelle (minutes)'],\n",
      "      dtype='object')\n"
     ]
    }
   ],
   "source": [
    "print(new_data.columns)"
   ]
  },
  {
   "cell_type": "code",
   "execution_count": 6,
   "metadata": {},
   "outputs": [
    {
     "data": {
      "text/html": [
       "<div>\n",
       "<style scoped>\n",
       "    .dataframe tbody tr th:only-of-type {\n",
       "        vertical-align: middle;\n",
       "    }\n",
       "\n",
       "    .dataframe tbody tr th {\n",
       "        vertical-align: top;\n",
       "    }\n",
       "\n",
       "    .dataframe thead th {\n",
       "        text-align: right;\n",
       "    }\n",
       "</style>\n",
       "<table border=\"1\" class=\"dataframe\">\n",
       "  <thead>\n",
       "    <tr style=\"text-align: right;\">\n",
       "      <th></th>\n",
       "      <th>Ville de depart</th>\n",
       "      <th>Ville d'arrivee</th>\n",
       "      <th>Distance (km)</th>\n",
       "      <th>Poids (kg)</th>\n",
       "      <th>Heure_depart</th>\n",
       "      <th>Heure_arrivee</th>\n",
       "      <th>Weekend</th>\n",
       "      <th>Jour ferie</th>\n",
       "      <th>Duree reelle (minutes)</th>\n",
       "    </tr>\n",
       "  </thead>\n",
       "  <tbody>\n",
       "    <tr>\n",
       "      <th>0</th>\n",
       "      <td>1</td>\n",
       "      <td>3</td>\n",
       "      <td>200</td>\n",
       "      <td>10000</td>\n",
       "      <td>8</td>\n",
       "      <td>12</td>\n",
       "      <td>0</td>\n",
       "      <td>0</td>\n",
       "      <td>240</td>\n",
       "    </tr>\n",
       "    <tr>\n",
       "      <th>1</th>\n",
       "      <td>2</td>\n",
       "      <td>4</td>\n",
       "      <td>300</td>\n",
       "      <td>15000</td>\n",
       "      <td>14</td>\n",
       "      <td>18</td>\n",
       "      <td>1</td>\n",
       "      <td>0</td>\n",
       "      <td>180</td>\n",
       "    </tr>\n",
       "    <tr>\n",
       "      <th>2</th>\n",
       "      <td>1</td>\n",
       "      <td>3</td>\n",
       "      <td>95</td>\n",
       "      <td>38939</td>\n",
       "      <td>21</td>\n",
       "      <td>22</td>\n",
       "      <td>0</td>\n",
       "      <td>1</td>\n",
       "      <td>75</td>\n",
       "    </tr>\n",
       "    <tr>\n",
       "      <th>3</th>\n",
       "      <td>0</td>\n",
       "      <td>2</td>\n",
       "      <td>235</td>\n",
       "      <td>8061</td>\n",
       "      <td>16</td>\n",
       "      <td>18</td>\n",
       "      <td>0</td>\n",
       "      <td>0</td>\n",
       "      <td>260</td>\n",
       "    </tr>\n",
       "  </tbody>\n",
       "</table>\n",
       "</div>"
      ],
      "text/plain": [
       "   Ville de depart  Ville d'arrivee  Distance (km)  Poids (kg)  Heure_depart  \\\n",
       "0                1                3            200       10000             8   \n",
       "1                2                4            300       15000            14   \n",
       "2                1                3             95       38939            21   \n",
       "3                0                2            235        8061            16   \n",
       "\n",
       "   Heure_arrivee  Weekend  Jour ferie  Duree reelle (minutes)  \n",
       "0             12        0           0                     240  \n",
       "1             18        1           0                     180  \n",
       "2             22        0           1                      75  \n",
       "3             18        0           0                     260  "
      ]
     },
     "execution_count": 6,
     "metadata": {},
     "output_type": "execute_result"
    }
   ],
   "source": [
    "new_data.head()"
   ]
  },
  {
   "cell_type": "code",
   "execution_count": 7,
   "metadata": {},
   "outputs": [
    {
     "name": "stdout",
     "output_type": "stream",
     "text": [
      "Prédictions du modèle Random Forest : [60.54  7.17  5.35 82.31]\n"
     ]
    }
   ],
   "source": [
    "predictions = random_forest_model.predict(new_data)\n",
    "print(\"Prédictions du modèle Random Forest :\", predictions)"
   ]
  },
  {
   "cell_type": "code",
   "execution_count": 8,
   "metadata": {},
   "outputs": [
    {
     "name": "stdout",
     "output_type": "stream",
     "text": [
      "Prédictions sauvegardées dans 'predictions_random_forest.csv'.\n"
     ]
    }
   ],
   "source": [
    "predictions = predictions.astype(int)\n",
    "new_data[\"Predictions_Random_Forest\"] = predictions\n",
    "\n",
    "new_data.to_csv(\"data_predict/predictions_random_forest.csv\", index=False)\n",
    "print(\"Prédictions sauvegardées dans 'predictions_random_forest.csv'.\")"
   ]
  }
 ],
 "metadata": {
  "kernelspec": {
   "display_name": "Python 3",
   "language": "python",
   "name": "python3"
  },
  "language_info": {
   "codemirror_mode": {
    "name": "ipython",
    "version": 3
   },
   "file_extension": ".py",
   "mimetype": "text/x-python",
   "name": "python",
   "nbconvert_exporter": "python",
   "pygments_lexer": "ipython3",
   "version": "3.11.0"
  }
 },
 "nbformat": 4,
 "nbformat_minor": 2
}
